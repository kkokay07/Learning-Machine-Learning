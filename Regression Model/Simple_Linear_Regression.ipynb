{
  "nbformat": 4,
  "nbformat_minor": 0,
  "metadata": {
    "colab": {
      "provenance": [],
      "authorship_tag": "ABX9TyNK/rnx4BMg/aRz0fmgYEtB",
      "include_colab_link": true
    },
    "kernelspec": {
      "name": "python3",
      "display_name": "Python 3"
    },
    "language_info": {
      "name": "python"
    }
  },
  "cells": [
    {
      "cell_type": "markdown",
      "metadata": {
        "id": "view-in-github",
        "colab_type": "text"
      },
      "source": [
        "<a href=\"https://colab.research.google.com/github/kkokay07/Learning-Machine-Learning/blob/main/Regression%20Model/Simple_Linear_Regression.ipynb\" target=\"_parent\"><img src=\"https://colab.research.google.com/assets/colab-badge.svg\" alt=\"Open In Colab\"/></a>"
      ]
    },
    {
      "cell_type": "markdown",
      "source": [
        "# Introduction to Regression Analysis\n",
        "\n",
        "## What is Regression?\n",
        "\n",
        "Regression analysis is a statistical method used to model and analyze the relationship between a dependent variable (target) and one or more independent variables (features/predictors). It helps us understand how changes in independent variables influence the dependent variable, enabling prediction and inference.\n",
        "\n",
        "### Core Concept\n",
        "At its heart, regression attempts to find the best-fitting mathematical relationship between variables by minimizing the difference between predicted and actual values.\n",
        "\n",
        "### Historical Context\n",
        "The term \"regression\" was coined by Francis Galton in the 19th century during his study of human heights, where he observed that children of tall parents tend to be shorter than their parents (regressing toward the mean).\n",
        "\n",
        "## Why Do We Use Regression?\n",
        "\n",
        "Regression serves multiple crucial purposes in data analysis and machine learning:\n",
        "\n",
        "1. **Prediction**\n",
        "   - Forecasting future values based on historical data\n",
        "   - Example: Predicting house prices based on square footage, location, and amenities\n",
        "   - Example: Estimating sales volume based on advertising spend\n",
        "\n",
        "2. **Relationship Understanding**\n",
        "   - Quantifying the strength and direction of relationships between variables\n",
        "   - Example: Understanding how temperature affects ice cream sales\n",
        "   - Example: Measuring the impact of education on income levels\n",
        "\n",
        "3. **Causal Analysis**\n",
        "   - Investigating cause-and-effect relationships (with proper experimental design)\n",
        "   - Example: Analyzing the effect of a new drug on patient recovery time\n",
        "   - Example: Measuring the impact of price changes on product demand\n",
        "\n",
        "## Key Terminology\n",
        "\n",
        "### 1. Variables\n",
        "- **Dependent Variable (Y)**\n",
        "  - Also called the response variable or target\n",
        "  - What we're trying to predict or explain\n",
        "  - Example: House price, student performance\n",
        "\n",
        "- **Independent Variables (X)**\n",
        "  - Also called predictors, features, or explanatory variables\n",
        "  - Used to predict the dependent variable\n",
        "  - Example: Square footage, study hours\n",
        "\n",
        "### 2. Model Components\n",
        "- **Coefficients (β)**\n",
        "  - Weights assigned to each independent variable\n",
        "  - Represent the change in Y for a one-unit change in X\n",
        "  - Example: Price increase per square foot in house pricing\n",
        "\n",
        "- **Intercept (β₀)**\n",
        "  - The base value when all independent variables are zero\n",
        "  - Starting point of the regression line\n",
        "  - Example: Base price of a house before considering any features\n",
        "\n",
        "- **Error Term (ε)**\n",
        "  - The difference between predicted and actual values\n",
        "  - Represents unexplained variation\n",
        "  - Example: Factors affecting house price not included in the model\n",
        "\n",
        "### 3. Statistical Terms\n",
        "- **Residuals**\n",
        "  - Actual differences between predicted and observed values\n",
        "  - Used to assess model fit\n",
        "  - Example: Difference between predicted and actual house price\n",
        "\n",
        "- **Variance**\n",
        "  - Measure of spread in the data\n",
        "  - Important for understanding prediction reliability\n",
        "  - Example: Spread of house prices around the mean\n",
        "\n",
        "- **Standard Error**\n",
        "  - Measure of coefficient estimate precision\n",
        "  - Used for confidence intervals and hypothesis testing\n",
        "  - Example: Uncertainty in price per square foot estimate\n",
        "\n",
        "## Real-World Example: Ice Cream Sales\n",
        "\n",
        "Let's consider a simple example to illustrate regression concepts:\n",
        "\n",
        "### Scenario\n",
        "- Dependent Variable (Y): Daily ice cream sales ($)\n",
        "- Independent Variable (X): Daily temperature (°F)\n",
        "- Goal: Understand and predict how temperature affects sales\n",
        "\n",
        "### Data Patterns\n",
        "- As temperature increases, ice cream sales tend to increase\n",
        "- The relationship might not be perfectly linear\n",
        "- Other factors (weekday, holidays, events) also influence sales\n",
        "\n",
        "### Business Applications\n",
        "1. **Inventory Management**\n",
        "   - Predict sales based on weather forecast\n",
        "   - Optimize stock levels\n",
        "   - Reduce waste and stockouts\n",
        "\n",
        "2. **Staff Planning**\n",
        "   - Schedule appropriate number of workers\n",
        "   - Plan for busy periods\n",
        "   - Optimize labor costs\n",
        "\n",
        "3. **Financial Planning**\n",
        "   - Project revenue based on seasonal temperatures\n",
        "   - Plan marketing campaigns\n",
        "   - Set realistic business targets\n",
        "\n",
        "## Mathematical Foundation\n",
        "\n",
        "### Basic Linear Relationship\n",
        "Y = β₀ + β₁X + ε\n",
        "\n",
        "Where:\n",
        "- Y: Ice cream sales ($)\n",
        "- β₀: Base sales (when temperature is 0°F)\n",
        "- β₁: Sales increase per degree increase\n",
        "- X: Temperature (°F)\n",
        "- ε: Error term\n",
        "\n",
        "### Example Values\n",
        "- β₀ = $100 (base sales)\n",
        "- β₁ = $5 (sales increase per degree)\n",
        "- At 75°F: Expected sales = $100 + $5(75) = $475\n",
        "\n",
        "## Transitioning to Advanced Concepts\n",
        "\n",
        "This introduction sets the foundation for more complex topics we'll cover:\n",
        "- Multiple regression with several predictors\n",
        "- Non-linear relationships\n",
        "- Interaction effects\n",
        "- Model validation and diagnostics\n",
        "\n",
        "Understanding these fundamentals is crucial for:\n",
        "1. Selecting appropriate regression methods\n",
        "2. Interpreting results correctly\n",
        "3. Making valid predictions\n",
        "4. Communicating findings effectively"
      ],
      "metadata": {
        "id": "Ro5RZkKVlXXv"
      }
    },
    {
      "cell_type": "markdown",
      "source": [
        "# Introduction to Regression Analysis\n",
        "\n",
        "## What is Regression?\n",
        "\n",
        "Regression analysis is a statistical method used to model and analyze the relationship between a dependent variable (target) and one or more independent variables (features/predictors). It helps us understand how changes in independent variables influence the dependent variable, enabling prediction and inference.\n",
        "\n",
        "### Core Concept\n",
        "At its heart, regression attempts to find the best-fitting mathematical relationship between variables by minimizing the difference between predicted and actual values.\n",
        "\n",
        "### Historical Context\n",
        "The term \"regression\" was coined by Francis Galton in the 19th century during his study of human heights, where he observed that children of tall parents tend to be shorter than their parents (regressing toward the mean).\n",
        "\n",
        "## Why Do We Use Regression?\n",
        "\n",
        "Regression serves multiple crucial purposes in data analysis and machine learning:\n",
        "\n",
        "1. **Prediction**\n",
        "   - Forecasting future values based on historical data\n",
        "   - Example: Predicting house prices based on square footage, location, and amenities\n",
        "   - Example: Estimating sales volume based on advertising spend\n",
        "\n",
        "2. **Relationship Understanding**\n",
        "   - Quantifying the strength and direction of relationships between variables\n",
        "   - Example: Understanding how temperature affects ice cream sales\n",
        "   - Example: Measuring the impact of education on income levels\n",
        "\n",
        "3. **Causal Analysis**\n",
        "   - Investigating cause-and-effect relationships (with proper experimental design)\n",
        "   - Example: Analyzing the effect of a new drug on patient recovery time\n",
        "   - Example: Measuring the impact of price changes on product demand\n",
        "\n",
        "## Key Terminology\n",
        "\n",
        "### 1. Variables\n",
        "- **Dependent Variable (Y)**\n",
        "  - Also called the response variable or target\n",
        "  - What we're trying to predict or explain\n",
        "  - Example: House price, student performance\n",
        "\n",
        "- **Independent Variables (X)**\n",
        "  - Also called predictors, features, or explanatory variables\n",
        "  - Used to predict the dependent variable\n",
        "  - Example: Square footage, study hours\n",
        "\n",
        "### 2. Model Components\n",
        "- **Coefficients (β)**\n",
        "  - Weights assigned to each independent variable\n",
        "  - Represent the change in Y for a one-unit change in X\n",
        "  - Example: Price increase per square foot in house pricing\n",
        "\n",
        "- **Intercept (β₀)**\n",
        "  - The base value when all independent variables are zero\n",
        "  - Starting point of the regression line\n",
        "  - Example: Base price of a house before considering any features\n",
        "\n",
        "- **Error Term (ε)**\n",
        "  - The difference between predicted and actual values\n",
        "  - Represents unexplained variation\n",
        "  - Example: Factors affecting house price not included in the model\n",
        "\n",
        "### 3. Statistical Terms\n",
        "- **Residuals**\n",
        "  - Actual differences between predicted and observed values\n",
        "  - Used to assess model fit\n",
        "  - Example: Difference between predicted and actual house price\n",
        "\n",
        "- **Variance**\n",
        "  - Measure of spread in the data\n",
        "  - Important for understanding prediction reliability\n",
        "  - Example: Spread of house prices around the mean\n",
        "\n",
        "- **Standard Error**\n",
        "  - Measure of coefficient estimate precision\n",
        "  - Used for confidence intervals and hypothesis testing\n",
        "  - Example: Uncertainty in price per square foot estimate\n",
        "\n",
        "## Real-World Example: Ice Cream Sales\n",
        "\n",
        "Let's consider a simple example to illustrate regression concepts:\n",
        "\n",
        "### Scenario\n",
        "- Dependent Variable (Y): Daily ice cream sales ($)\n",
        "- Independent Variable (X): Daily temperature (°F)\n",
        "- Goal: Understand and predict how temperature affects sales\n",
        "\n",
        "### Data Patterns\n",
        "- As temperature increases, ice cream sales tend to increase\n",
        "- The relationship might not be perfectly linear\n",
        "- Other factors (weekday, holidays, events) also influence sales\n",
        "\n",
        "### Business Applications\n",
        "1. **Inventory Management**\n",
        "   - Predict sales based on weather forecast\n",
        "   - Optimize stock levels\n",
        "   - Reduce waste and stockouts\n",
        "\n",
        "2. **Staff Planning**\n",
        "   - Schedule appropriate number of workers\n",
        "   - Plan for busy periods\n",
        "   - Optimize labor costs\n",
        "\n",
        "3. **Financial Planning**\n",
        "   - Project revenue based on seasonal temperatures\n",
        "   - Plan marketing campaigns\n",
        "   - Set realistic business targets\n",
        "\n",
        "## Mathematical Foundation\n",
        "\n",
        "### Basic Linear Relationship\n",
        "Y = β₀ + β₁X + ε\n",
        "\n",
        "Where:\n",
        "- Y: Ice cream sales ($)\n",
        "- β₀: Base sales (when temperature is 0°F)\n",
        "- β₁: Sales increase per degree increase\n",
        "- X: Temperature (°F)\n",
        "- ε: Error term\n",
        "\n",
        "### Example Values\n",
        "- β₀ = $100 (base sales)\n",
        "- β₁ = $5 (sales increase per degree)\n",
        "- At 75°F: Expected sales = $100 + $5(75) = $475\n",
        "\n",
        "## Transitioning to Advanced Concepts\n",
        "\n",
        "This introduction sets the foundation for more complex topics we'll cover:\n",
        "- Multiple regression with several predictors\n",
        "- Non-linear relationships\n",
        "- Interaction effects\n",
        "- Model validation and diagnostics\n",
        "\n",
        "Understanding these fundamentals is crucial for:\n",
        "1. Selecting appropriate regression methods\n",
        "2. Interpreting results correctly\n",
        "3. Making valid predictions\n",
        "4. Communicating findings effectively\n",
        "\n",
        "# Simple Linear Regression\n",
        "\n",
        "## Mathematical Foundation\n",
        "\n",
        "### Basic Equation\n",
        "The simple linear regression model is represented by:\n",
        "Y = β₀ + β₁X + ε\n",
        "\n",
        "Where:\n",
        "- Y: Dependent variable (target)\n",
        "- β₀: Y-intercept (constant term)\n",
        "- β₁: Slope coefficient\n",
        "- X: Independent variable (feature)\n",
        "- ε: Error term (residuals)\n",
        "\n",
        "### Ordinary Least Squares (OLS)\n",
        "OLS is the most common method for estimating the parameters β₀ and β₁. It minimizes the sum of squared residuals:\n",
        "\n",
        "minimize Σ(yi - ŷi)²\n",
        "\n",
        "Where:\n",
        "- yi: Actual value\n",
        "- ŷi: Predicted value (β₀ + β₁xi)\n",
        "\n",
        "## Key Assumptions\n",
        "\n",
        "1. **Linearity**\n",
        "   - The relationship between X and Y is linear\n",
        "   - Can be verified using scatter plots\n",
        "   - Violation requires non-linear transformation or different model\n",
        "\n",
        "2. **Independence**\n",
        "   - Observations are independent of each other\n",
        "   - Common violation in time series data\n",
        "   - Test using Durbin-Watson statistic\n",
        "\n",
        "3. **Homoscedasticity**\n",
        "   - Constant variance of residuals\n",
        "   - Check using residual plots\n",
        "   - Violation requires weighted regression or transformation\n",
        "\n",
        "4. **Normality**\n",
        "   - Residuals are normally distributed\n",
        "   - Verify using Q-Q plots\n",
        "   - Less critical for large samples (Central Limit Theorem)\n",
        "\n",
        "5. **No Perfect Multicollinearity**\n",
        "   - Not a concern in simple linear regression\n",
        "   - Becomes important in multiple regression\n"
      ],
      "metadata": {
        "id": "jixnMeTWly2x"
      }
    },
    {
      "cell_type": "markdown",
      "source": [
        "## Practical Example: House Price Prediction\n",
        "\n",
        "### Dataset Description\n",
        "# Sample dataset"
      ],
      "metadata": {
        "id": "-lNsD4slqZz3"
      }
    },
    {
      "cell_type": "code",
      "source": [
        "houses = {\n",
        "    'size_sqft': [1200, 1400, 1600, 1800, 2000, 2200, 2400],\n",
        "    'price': [150000, 165000, 180000, 200000, 220000, 235000, 255000]\n",
        "}"
      ],
      "metadata": {
        "id": "Jj3wjq1PmRYn"
      },
      "execution_count": 2,
      "outputs": []
    },
    {
      "cell_type": "code",
      "source": [
        "# Import libraries\n",
        "import numpy as np\n",
        "import pandas as pd\n",
        "from sklearn.linear_model import LinearRegression\n",
        "from sklearn.model_selection import train_test_split\n",
        "import matplotlib.pyplot as plt"
      ],
      "metadata": {
        "id": "fwT9mPQ-mjdr"
      },
      "execution_count": 3,
      "outputs": []
    },
    {
      "cell_type": "code",
      "source": [
        "# Create DataFrame\n",
        "df = pd.DataFrame(houses)\n",
        "\n",
        "# Split features and target\n",
        "X = df[['size_sqft']]\n",
        "y = df['price']"
      ],
      "metadata": {
        "id": "oiq3dqWym2S2"
      },
      "execution_count": null,
      "outputs": []
    },
    {
      "cell_type": "code",
      "source": [
        "# Create and fit model\n",
        "model = LinearRegression()\n",
        "model.fit(X, y)"
      ],
      "metadata": {
        "id": "YhiMHIRem-A1"
      },
      "execution_count": null,
      "outputs": []
    },
    {
      "cell_type": "code",
      "source": [
        "# Model coefficients\n",
        "print(f\"Intercept (β₀): {model.intercept_:.2f}\")\n",
        "print(f\"Slope (β₁): {model.coef_[0]:.2f}\")"
      ],
      "metadata": {
        "id": "LvVFrhBSnDyQ"
      },
      "execution_count": null,
      "outputs": []
    },
    {
      "cell_type": "code",
      "source": [
        "# Make predictions\n",
        "X_new = np.array([[2100]])  # Predict price for 2100 sq ft house\n",
        "predicted_price = model.predict(X_new)"
      ],
      "metadata": {
        "id": "bOJYLvkQncun"
      },
      "execution_count": null,
      "outputs": []
    },
    {
      "cell_type": "markdown",
      "source": [
        "### Interpretation of Results\n",
        "\n",
        "1. **Coefficient Interpretation**\n",
        "   - β₀ (Intercept): Base price when size is 0 (may not have practical meaning)\n",
        "   - β₁ (Slope): Price increase per square foot increase\n",
        "\n",
        "2. **Model Equation**\n",
        "   - Price = β₀ + β₁ × Size\n",
        "   - Example: Price = 50000 + 85 × Size_sqft\n"
      ],
      "metadata": {
        "id": "Wy29rZqmnln8"
      }
    },
    {
      "cell_type": "markdown",
      "source": [
        "## Model Evaluation\n",
        "# Key Metrics\n",
        "#1. **R-squared (R²)**"
      ],
      "metadata": {
        "id": "TZtCazPon64l"
      }
    },
    {
      "cell_type": "code",
      "source": [
        "   r2 = model.score(X, y)"
      ],
      "metadata": {
        "id": "Tqu5Fg4lnmsr"
      },
      "execution_count": null,
      "outputs": []
    },
    {
      "cell_type": "markdown",
      "source": [
        "   - Proportion of variance explained by the model\n",
        "   - Ranges from 0 to 1\n",
        "   - Higher values indicate better fit"
      ],
      "metadata": {
        "id": "KjEpldzgnxoX"
      }
    },
    {
      "cell_type": "markdown",
      "source": [
        "2. **Mean Squared Error (MSE)**\n",
        "  \n",
        "   - Average squared difference between predicted and actual values\n",
        "   - Penalizes larger errors more heavily\n"
      ],
      "metadata": {
        "id": "aQEeksM2oBxC"
      }
    },
    {
      "cell_type": "code",
      "source": [
        "   from sklearn.metrics import mean_squared_error\n",
        "   mse = mean_squared_error(y, model.predict(X))"
      ],
      "metadata": {
        "id": "J-_hsD3bnfZo"
      },
      "execution_count": null,
      "outputs": []
    },
    {
      "cell_type": "markdown",
      "source": [
        "3. **Root Mean Squared Error (RMSE)**\n",
        "   ```python\n",
        "   rmse = np.sqrt(mse)\n",
        "   ```\n",
        "   - Same units as target variable\n",
        "   - More interpretable than MSE\n"
      ],
      "metadata": {
        "id": "lkVIvUlNoLOm"
      }
    },
    {
      "cell_type": "markdown",
      "source": [
        "3. **Root Mean Squared Error (RMSE)**\n",
        "   - Same units as target variable\n",
        "   - More interpretable than MSE"
      ],
      "metadata": {
        "id": "I6e5yYY4oSrZ"
      }
    },
    {
      "cell_type": "code",
      "source": [
        "   rmse = np.sqrt(mse)"
      ],
      "metadata": {
        "id": "6xKWCkFkoOIy"
      },
      "execution_count": null,
      "outputs": []
    },
    {
      "cell_type": "markdown",
      "source": [
        "4. **Mean Absolute Error (MAE)**\n",
        "  \n",
        "   - Average absolute difference between predicted and actual values\n",
        "   - Less sensitive to outliers than RMSE\n"
      ],
      "metadata": {
        "id": "HPsavKQ4pUHS"
      }
    },
    {
      "cell_type": "code",
      "source": [
        "   from sklearn.metrics import mean_absolute_error\n",
        "   mae = mean_absolute_error(y, model.predict(X))"
      ],
      "metadata": {
        "id": "tkmakuZ_pWFT"
      },
      "execution_count": null,
      "outputs": []
    },
    {
      "cell_type": "markdown",
      "source": [
        "## Visualization and Diagnostics\n"
      ],
      "metadata": {
        "id": "BBWQLFSLpZGD"
      }
    },
    {
      "cell_type": "markdown",
      "source": [
        "### 1. Scatter Plot with Regression Line"
      ],
      "metadata": {
        "id": "B0GDLZqup09U"
      }
    },
    {
      "cell_type": "code",
      "source": [
        "plt.figure(figsize=(10, 6))\n",
        "plt.scatter(X, y, color='blue', alpha=0.5)\n",
        "plt.plot(X, model.predict(X), color='red', linewidth=2)\n",
        "plt.xlabel('Size (sq ft)')\n",
        "plt.ylabel('Price ($)')\n",
        "plt.title('House Prices vs Size with Regression Line')\n",
        "plt.show()"
      ],
      "metadata": {
        "id": "rFXINDXLph17"
      },
      "execution_count": null,
      "outputs": []
    },
    {
      "cell_type": "markdown",
      "source": [
        "### 2. Residual Plot"
      ],
      "metadata": {
        "id": "M2SissLmpkt9"
      }
    },
    {
      "cell_type": "code",
      "source": [
        "residuals = y - model.predict(X)\n",
        "plt.figure(figsize=(10, 6))\n",
        "plt.scatter(model.predict(X), residuals, color='blue', alpha=0.5)\n",
        "plt.axhline(y=0, color='red', linestyle='--')\n",
        "plt.xlabel('Predicted Values')\n",
        "plt.ylabel('Residuals')\n",
        "plt.title('Residual Plot')\n",
        "plt.show()"
      ],
      "metadata": {
        "id": "ySOMUdq0pvBZ"
      },
      "execution_count": null,
      "outputs": []
    },
    {
      "cell_type": "markdown",
      "source": [
        "## Common Issues and Solutions\n",
        "\n",
        "1. **Outliers**\n",
        "   - Identify using scatter plots and residual analysis\n",
        "   - Consider removal or robust regression techniques\n",
        "   - Investigate unusual cases for data quality issues\n",
        "\n",
        "2. **Non-linearity**\n",
        "   - Transform variables (log, square root, etc.)\n",
        "   - Consider polynomial regression\n",
        "   - Use non-linear models if necessary\n",
        "\n",
        "3. **Heteroscedasticity**\n",
        "   - Use weighted least squares\n",
        "   - Transform dependent variable\n",
        "   - Use robust standard errors\n",
        "\n",
        "## Practical Applications\n",
        "\n",
        "1. **Sales Forecasting**\n",
        "   - Predict sales based on advertising spend\n",
        "   - Plan inventory based on historical data\n",
        "   - Set realistic sales targets\n",
        "\n",
        "2. **Real Estate**\n",
        "   - Estimate property values\n",
        "   - Analyze price trends\n",
        "   - Support investment decisions\n",
        "\n",
        "3. **Scientific Research**\n",
        "   - Study relationships between variables\n",
        "   - Test hypotheses\n",
        "   - Control for confounding factors\n",
        "\n",
        "## Best Practices\n",
        "\n",
        "1. **Data Preparation**\n",
        "   - Remove or handle missing values\n",
        "   - Identify and handle outliers\n",
        "   - Scale variables if necessary\n",
        "\n",
        "2. **Model Validation**\n",
        "   - Use train-test split\n",
        "   - Perform cross-validation\n",
        "   - Check assumptions\n",
        "\n",
        "3. **Documentation**\n",
        "   - Record data sources and preprocessing steps\n",
        "   - Document model assumptions and limitations\n",
        "   - Keep track of model performance metrics\n",
        "\n",
        "4. **Communication**\n",
        "   - Present results clearly\n",
        "   - Use appropriate visualizations\n",
        "   - Explain limitations and uncertainties"
      ],
      "metadata": {
        "id": "wqcR-ap3qIRf"
      }
    }
  ]
}